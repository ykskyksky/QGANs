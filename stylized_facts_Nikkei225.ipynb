{
  "nbformat": 4,
  "nbformat_minor": 0,
  "metadata": {
    "colab": {
      "name": "stylized_facts_Nikkei225",
      "provenance": [],
      "collapsed_sections": [],
      "machine_shape": "hm"
    },
    "kernelspec": {
      "name": "python3",
      "display_name": "Python 3"
    },
    "language_info": {
      "name": "python"
    }
  },
  "cells": [
    {
      "cell_type": "markdown",
      "metadata": {
        "id": "A1trIDer8fpn"
      },
      "source": [
        "# **Stylized facts in synthetic returns**\n",
        "\n",
        "[link to paper](http://rama.cont.perso.math.cnrs.fr/pdf/empirical.pdf)"
      ]
    },
    {
      "cell_type": "code",
      "metadata": {
        "id": "0vmCRTUUYk-j"
      },
      "source": [
        "import tensorflow as tf\n",
        "import numpy as np\n",
        "\n",
        "# try to obtain reproducible results given fixed generator\n",
        "tf.random.set_seed(0)\n",
        "np.random.seed(0)"
      ],
      "execution_count": 1,
      "outputs": []
    },
    {
      "cell_type": "code",
      "metadata": {
        "id": "OkuyKbVj7PX-"
      },
      "source": [
        "#from google.colab import drive\n",
        "#drive.mount('/content/drive')"
      ],
      "execution_count": 2,
      "outputs": []
    },
    {
      "cell_type": "code",
      "metadata": {
        "id": "bPwB_8oLTHag"
      },
      "source": [
        "%%capture\n",
        "import sys\n",
        "!pip install tensorflow-addons\n",
        "!pip install yfinance\n",
        "!git clone https://github.com/ICascha/QuantGANs-replication.git\n",
        "!unzip QuantGANs-replication/trained_models/trained_generator_Nikkei225i225 -d QuantGANs-replication/trained_models\n",
        "sys.path.append('/content/QuantGANs-replication/')"
      ],
      "execution_count": 3,
      "outputs": []
    },
    {
      "cell_type": "code",
      "metadata": {
        "id": "n4_MRPaX9euF"
      },
      "source": [
        "#!unzip QuantGANs-replication/trained_models/trained_generator_Nikkei225 -d QuantGANs-replication/trained_models\n",
        "#sys.path.append('/content/drive/MyDrive/QuantGANs-replication/')"
      ],
      "execution_count": 4,
      "outputs": []
    },
    {
      "cell_type": "code",
      "metadata": {
        "id": "qdb800LOYtH-"
      },
      "source": [
        "import pandas as pd\n",
        "import numpy as np\n",
        "import matplotlib.pyplot as plt\n",
        "#import pandas_datareader as pdr\n",
        "from pandas_datareader import data as pdr\n",
        "import yfinance as yf\n",
        "yf.pdr_override()\n",
        "\n",
        "from tensorflow.keras.models import load_model\n",
        "from tensorflow.random import normal\n",
        "from backend.preprocessing import *\n",
        "from backend.metrics import *\n",
        "from google.colab import files\n",
        "from scipy.stats import wasserstein_distance, norm, kurtosis, skew, skewtest, kurtosistest"
      ],
      "execution_count": 5,
      "outputs": []
    },
    {
      "cell_type": "code",
      "metadata": {
        "id": "-Rrp5jT8Y4fc",
        "colab": {
          "base_uri": "https://localhost:8080/"
        },
        "outputId": "f0814a89-b400-478e-f1b5-eff21490af0b"
      },
      "source": [
        "df = pdr.get_data_yahoo(\"^N225\", start=\"2009-1-1\", end=\"2021-9-07\")['Adj Close']\n",
        "log_returns = np.log(df/df.shift(1))[1:].to_numpy().reshape(-1, 1)"
      ],
      "execution_count": 6,
      "outputs": [
        {
          "output_type": "stream",
          "name": "stdout",
          "text": [
            "\r[*********************100%***********************]  1 of 1 completed\n"
          ]
        }
      ]
    },
    {
      "cell_type": "markdown",
      "metadata": {
        "id": "jS-tEnXg8YC1"
      },
      "source": [
        "# Set up preprocessing pipeline"
      ]
    },
    {
      "cell_type": "code",
      "metadata": {
        "id": "HpkXaAh1Zm12"
      },
      "source": [
        "s1 = StandardScaler()\n",
        "s2 = StandardScaler()\n",
        "g1 = Gaussianize()\n",
        "s2.fit(g1.fit_transform(s1.fit_transform(log_returns)));"
      ],
      "execution_count": 7,
      "outputs": []
    },
    {
      "cell_type": "code",
      "metadata": {
        "id": "9kxZIaOPY67J"
      },
      "source": [
        "generator = load_model('/content/QuantGANs-replication/trained_models/trained_generator_Nikkei225')\n",
        "rfs = 127"
      ],
      "execution_count": null,
      "outputs": []
    },
    {
      "cell_type": "markdown",
      "metadata": {
        "id": "ajCo5pgwWBtU"
      },
      "source": [
        "# Generating synthetic returns"
      ]
    },
    {
      "cell_type": "code",
      "metadata": {
        "id": "8MlqJ36xY_nD"
      },
      "source": [
        "# Filter out paths with a maximum/minimum return filter_constant times that of \n",
        "# the maximum/minimum return of the original distribution\n",
        "filter_constant = 2\n",
        "n_samples = 1000\n",
        "length = len(log_returns)\n",
        "\n",
        "y_list = []\n",
        "\n",
        "# I recommend you run this on a CPU colab instance, \n",
        "# since only this part is heavy. Should be done in a minute or 3\n",
        "\n",
        "for _ in range(n_samples//100):\n",
        "    noise = normal([100, 1, length + rfs - 1, 3])\n",
        "    y_list.append(generator(noise).numpy().squeeze())\n",
        "\n",
        "y = np.stack(y_list, axis=0)\n",
        "del y_list\n",
        "\n",
        "y = (y - y.mean())/y.std()\n",
        "y = s2.inverse_transform(y)\n",
        "y = g1.inverse_transform(np.expand_dims(y.flatten(), 1)).reshape(n_samples, length)\n",
        "y = s1.inverse_transform(y);\n",
        "y = y[(y.max(axis=1) <= filter_constant * log_returns.max()) & (y.min(axis=1) >= filter_constant * log_returns.min())]"
      ],
      "execution_count": null,
      "outputs": []
    },
    {
      "cell_type": "code",
      "metadata": {
        "id": "MJL7a-WIet-L"
      },
      "source": [
        "len(y)"
      ],
      "execution_count": null,
      "outputs": []
    },
    {
      "cell_type": "markdown",
      "metadata": {
        "id": "YtCP8rYg7rs0"
      },
      "source": [
        "# Compare real vs. synthetic distributions"
      ]
    },
    {
      "cell_type": "code",
      "metadata": {
        "id": "Ory3mxslZ4DE"
      },
      "source": [
        "n_bins = 50\n",
        "windows = [1, 5, 20]\n",
        "\n",
        "fig, ax = plt.subplots(ncols=3, figsize=(20, 5))\n",
        "\n",
        "\n",
        "for i in range(len(windows)):\n",
        "    real_dist = rolling_window(log_returns, windows[i], sparse = not (windows[i] == 1)).sum(axis=0).ravel()\n",
        "    fake_dist = rolling_window(y.T, windows[i], sparse = not (windows[i] == 1)).sum(axis=0).ravel()\n",
        "\n",
        "    ax[i].hist(np.array([real_dist, fake_dist], dtype='object'), bins=50, density=True)\n",
        "    ax[i].set_xlim(*np.quantile(fake_dist, [0.001, .999]))\n",
        "    \n",
        "    ax[i].set_title('{} day return distribution'.format(windows[i]), size=16)\n",
        "    ax[i].yaxis.grid(True, alpha=0.5)\n",
        "    ax[i].set_xlabel('cumalatative log return')\n",
        "    ax[i].set_ylabel('frequency')\n",
        "\n",
        "ax[0].legend(['historical returns', 'synthetic returns'])\n",
        "\n",
        "plt.savefig('dist_compare.png', dpi=300)\n",
        "files.download(\"dist_compare.png\");"
      ],
      "execution_count": null,
      "outputs": []
    },
    {
      "cell_type": "code",
      "metadata": {
        "id": "Lx6hxmRCbBRN"
      },
      "source": [
        "windows = pd.Series([1, 5, 20, 100], name='window size')\n",
        "EMDscores = np.zeros(len(windows))\n",
        "\n",
        "for i in range(len(windows)):\n",
        "    real_dist = rolling_window(log_returns, windows[i], sparse = not (windows[i] == 1)).sum(axis=0).ravel()\n",
        "    fake_dist = rolling_window(y.T, windows[i], sparse = not (windows[i] == 1)).sum(axis=0).ravel()\n",
        "    \n",
        "    EMDscores[i] = wasserstein_distance(real_dist, fake_dist)\n",
        "\n",
        "df_EMD = pd.DataFrame({'Earth Mover Distance' : EMDscores}, index=windows)\n",
        "with open(\"EMD_Scores.tex\", \"w\") as fh:\n",
        "    fh.write(df_EMD.to_latex())\n",
        "files.download(\"EMD_Scores.tex\")\n",
        "df_EMD"
      ],
      "execution_count": null,
      "outputs": []
    },
    {
      "cell_type": "markdown",
      "metadata": {
        "id": "edBYmkCu71NQ"
      },
      "source": [
        "## Aggregational Gaussianity"
      ]
    },
    {
      "cell_type": "code",
      "metadata": {
        "id": "Nzh7Nl8Xv366"
      },
      "source": [
        "windows = [1, 5, 20, 100, 1000]\n",
        "n_bins = 100\n",
        "\n",
        "fig, ax = plt.subplots(ncols=len(windows), figsize=(5*len(windows),5))\n",
        "\n",
        "for i in range(len(windows)):\n",
        "    real_dist = rolling_window(log_returns, windows[i], sparse = not (windows[i] == 1)).sum(axis=0).ravel()\n",
        "    ax[i].hist(real_dist, bins=n_bins, density=True)\n",
        "    x_range = np.linspace(*ax[i].get_xlim(), 10000)\n",
        "    ax[i].plot(x_range, norm.pdf(x_range, real_dist.mean(), real_dist.std()))\n",
        "    ax[i].set_xlim(*np.quantile(real_dist, [0.001, .999]))\n",
        "    ax[i].set_title('{} day returns'.format(windows[i]))\n",
        "    ax[i].yaxis.grid(True, alpha=0.5)\n",
        "    ax[i].set_xlabel('cumulative log return')\n",
        "    ax[i].set_ylabel('frequency')\n",
        "\n",
        "ax[0].legend(['$\\phi_{\\hat{\\mu}, \\hat{\\sigma}}(\\cdot)$', 'historical returns'], loc='upper left')\n",
        "\n",
        "plt.savefig('real_agg_gauss.png', dpi=300)\n",
        "files.download(\"real_agg_gauss.png\");"
      ],
      "execution_count": null,
      "outputs": []
    },
    {
      "cell_type": "code",
      "metadata": {
        "id": "ZKV4i22m5hg_"
      },
      "source": [
        "windows = [1, 5, 20, 100, 1000]\n",
        "n_bins = 100\n",
        "\n",
        "fig, ax = plt.subplots(ncols=len(windows), figsize=(5*len(windows),5))\n",
        "\n",
        "for i in range(len(windows)):\n",
        "    fake_dist = rolling_window(y.T, windows[i], sparse = not (windows[i] == 1)).sum(axis=0).ravel()\n",
        "    ax[i].hist(fake_dist, bins=n_bins, density=True)\n",
        "    x_range = np.linspace(*ax[i].get_xlim(), 10000)\n",
        "    ax[i].plot(x_range, norm.pdf(x_range, fake_dist.mean(), fake_dist.std()))\n",
        "    ax[i].set_xlim(*np.quantile(fake_dist, [0.001, .999]))\n",
        "    ax[i].set_title('{} day returns'.format(windows[i]))\n",
        "    ax[i].yaxis.grid(True, alpha=0.5)\n",
        "    ax[i].set_xlabel('cumulative log return')\n",
        "    ax[i].set_ylabel('frequency')\n",
        "\n",
        "ax[0].legend(['$\\phi_{\\hat{\\mu}, \\hat{\\sigma}}(\\cdot)$', 'synthetic returns'], loc='upper left')\n",
        "\n",
        "plt.savefig('fake_agg_gauss.png', dpi=300)\n",
        "files.download(\"fake_agg_gauss.png\");"
      ],
      "execution_count": null,
      "outputs": []
    },
    {
      "cell_type": "code",
      "metadata": {
        "id": "i_sLy3FvzgXv"
      },
      "source": [
        "windows = pd.Series([1, 5, 20, 100], name='window size')\n",
        "stats_array = np.zeros((len(windows), 4))\n",
        "\n",
        "for i in range(len(windows)):\n",
        "    real_dist = rolling_window(log_returns, windows[i], sparse = not (windows[i] == 1)).sum(axis=0).squeeze()\n",
        "    stats_array[i, 0] = skew(real_dist)\n",
        "    stats_array[i, 1] = skewtest(real_dist).pvalue\n",
        "    stats_array[i, 2] = kurtosis(real_dist)\n",
        "    stats_array[i, 3] = kurtosistest(real_dist).pvalue\n",
        "\n",
        "stats_df = pd.DataFrame(np.round(stats_array, 3), columns=['skewness', 'skewness p-value', 'kurtosis', 'kurtosis p-value'], index=windows)\n",
        "\n",
        "with open(\"stats_real.tex\", \"w\") as fh:\n",
        "    fh.write(stats_df.to_latex())\n",
        "files.download(\"stats_real.tex\")\n",
        "\n",
        "stats_df"
      ],
      "execution_count": null,
      "outputs": []
    },
    {
      "cell_type": "code",
      "metadata": {
        "id": "XDym7bfm5HI-"
      },
      "source": [
        "windows = pd.Series([1, 5, 20, 100], name='window size')\n",
        "stats_array = np.zeros((len(windows), 4))\n",
        "\n",
        "for i in range(len(windows)):\n",
        "    fake_di = rolling_window(y.T, windows[i], sparse = not (windows[i] == 1)).sum(axis=0).ravel()\n",
        "    stats_array[i, 0] = skew(real_dist)\n",
        "    stats_array[i, 1] = skewtest(real_dist).pvalue\n",
        "    stats_array[i, 2] = kurtosis(real_dist)\n",
        "    stats_array[i, 3] = kurtosistest(real_dist).pvalue\n",
        "\n",
        "stats_df = pd.DataFrame(np.round(stats_array, 3), columns=['skewness', 'skewness p-value', 'kurtosis', 'kurtosis p-value'], index=windows)\n",
        "\n",
        "with open(\"stats_fake.tex\", \"w\") as fh:\n",
        "    fh.write(stats_df.to_latex())\n",
        "files.download(\"stats_fake.tex\")\n",
        "\n",
        "stats_df"
      ],
      "execution_count": null,
      "outputs": []
    },
    {
      "cell_type": "markdown",
      "metadata": {
        "id": "OcSQLgKS79sp"
      },
      "source": [
        "# Gain/loss assymetry"
      ]
    },
    {
      "cell_type": "code",
      "metadata": {
        "id": "SQt-YnsQvXEN"
      },
      "source": [
        "real_dist = log_returns.squeeze()\n",
        "fake_dist = y.ravel() \n",
        "\n",
        "loss_assymetry = lambda dist, x: np.mean((dist[np.abs(dist) > x] >= 0))\n",
        "\n",
        "fig, ax = plt.subplots(figsize=(12,8))\n",
        "x_range = np.linspace(0, np.quantile(np.abs(real_dist), .95), 50)\n",
        "ax.plot(x_range, [loss_assymetry(real_dist, x) for x in x_range], label='real returns')\n",
        "ax.plot(x_range, [loss_assymetry(fake_dist, x) for x in x_range], label='synthetic returns')\n",
        "ax.hlines(0.5, -1, 1, linestyles='dotted');\n",
        "ax.set_xlim(0, np.quantile(np.abs(real_dist), .95))\n",
        "\n",
        "ax.set_xlabel('$r_a$', size=14)\n",
        "ax.set_ylabel('$E(r > 0$ | $|r| > r_a)$', size=14)\n",
        "\n",
        "ax.grid(alpha=0.7)\n",
        "\n",
        "ax.legend()\n",
        "\n",
        "plt.savefig('gl_assymetry.png', dpi=300)\n",
        "files.download(\"gl_assymetry.png\");"
      ],
      "execution_count": null,
      "outputs": []
    },
    {
      "cell_type": "code",
      "metadata": {
        "id": "6xJoTjdYmOla"
      },
      "source": [
        "fig, ax = plt.subplots(figsize=(12, 10))\n",
        "\n",
        "x_real = np.sort(abs(real_dist[real_dist <= 0]))\n",
        "x_fake = np.sort(abs(fake_dist[fake_dist <= 0]))\n",
        "\n",
        "plt.plot(x_real, x_real.cumsum()/x_real.sum())\n",
        "plt.plot(x_fake, x_fake.cumsum()/x_fake.sum())\n",
        "\n",
        "ax.grid(which='minor', alpha=0.4)\n",
        "ax.grid(which='major', alpha=0.8)\n",
        "\n",
        "ax.set_yticks(np.arange(0, 1.2, 0.2))\n",
        "ax.set_yticks(np.arange(0, 1.05, .05), minor=True)\n",
        "\n",
        "plt.xlim(0, max(x_fake))\n",
        "plt.ylim(0, 1.05)\n",
        "\n",
        "\n",
        "plt.plot([max(x_real), max(x_fake)], [1, 1], color='#1f77b4')\n",
        "\n",
        "ax.vlines(max(x_real), 0, 1.5, linestyles='dotted')\n",
        "\n",
        "ax.legend(['$|X_{real}|$ | $X_{real} \\leq 0$', '$|X_{fake}|$ | $X_{fake} \\leq 0$'])\n",
        "\n",
        "ax.set_xlabel('|X|', size=14)\n",
        "ax.set_ylabel('ECDF', size=14)\n",
        "\n",
        "plt.savefig('loss_ecdf.png', dpi=300)\n",
        "files.download(\"loss_ecdf.png\");"
      ],
      "execution_count": null,
      "outputs": []
    },
    {
      "cell_type": "markdown",
      "metadata": {
        "id": "VDRQXEGK8A7-"
      },
      "source": [
        "# Intermittency"
      ]
    },
    {
      "cell_type": "code",
      "metadata": {
        "id": "st-GRIwEv74o"
      },
      "source": [
        "fig, ax = plt.subplots(figsize=(20, 10), nrows=2)\n",
        "ax[0].plot(rolling_window(log_returns, 20).std(axis=0))\n",
        "ax[0].set_title('real returns', size=14)\n",
        "ax[1].plot(rolling_window(y[:5].T, 20).std(axis=0), alpha=0.8)\n",
        "ax[1].set_title('synthetic returns', size=14)\n",
        "\n",
        "ax[1].set_xlabel('$t$ (days)', size=14)\n",
        "ax[0].set_ylabel('$\\hat{\\sigma}_t$', size=14)\n",
        "ax[1].set_ylabel('$\\hat{\\sigma}_t$', size=14)\n",
        "\n",
        "plt.savefig('intermittency.png', dpi=300)\n",
        "files.download(\"intermittency.png\");"
      ],
      "execution_count": null,
      "outputs": []
    },
    {
      "cell_type": "markdown",
      "metadata": {
        "id": "LHMRZOTY8GOe"
      },
      "source": [
        "# Volatility clustering"
      ]
    },
    {
      "cell_type": "code",
      "metadata": {
        "id": "QFOAjDFG6FWD"
      },
      "source": [
        "fig, ax = plt.subplots(figsize=(8, 6))\n",
        "\n",
        "T = 127\n",
        "fake_acf = np.zeros(T)\n",
        "\n",
        "ax.plot(acf(rolling_window(log_returns, 20).std(axis=0), T));\n",
        "\n",
        "for i in range(0, len(y), 50):\n",
        "    fake_acf = fake_acf + acf(rolling_window(y.T[:, i:i+50], 20).std(axis=0), T).mean(axis=1)\n",
        "\n",
        "ax.plot(fake_acf/(len(y)//50 + 1))\n",
        "ax.grid(alpha=0.7)\n",
        "\n",
        "ax.set_xlabel('$\\\\tau$ (days)', size=14)\n",
        "ax.set_ylabel('$corr(\\hat{\\sigma}_t,\\hat{\\sigma}_{t+\\\\tau})$', size=14)\n",
        "ax.legend(['real returns', 'synthetic returns'])\n",
        "\n",
        "plt.savefig('vol_clust.png', dpi=300)\n",
        "files.download(\"vol_clust.png\");"
      ],
      "execution_count": null,
      "outputs": []
    },
    {
      "cell_type": "markdown",
      "metadata": {
        "id": "-VRgn7VQ8LeP"
      },
      "source": [
        "# Tail index"
      ]
    },
    {
      "cell_type": "code",
      "metadata": {
        "id": "7EDp-EZ6xsQb"
      },
      "source": [
        "absolute_moments = [2, 3, 4, 5]\n",
        "\n",
        "fig, ax = plt.subplots(figsize=(20,5), ncols=4)\n",
        "x_range = range(1, len(log_returns))\n",
        "\n",
        "for _ in range(5):\n",
        "    shuffled_array = np.random.permutation(log_returns)\n",
        "\n",
        "    for j in range(len(absolute_moments)):\n",
        "        ax[j].plot(x_range, [np.mean(np.abs(shuffled_array[:i])**absolute_moments[j], axis=0) for i in x_range]);\n",
        "\n",
        "for i in range(len(absolute_moments)):\n",
        "    ax[i].set_xlabel('Sample size')\n",
        "    ax[i].set_ylabel('Absolute moment: {}'.format(absolute_moments[i]))\n",
        "\n",
        "plt.savefig('tail_idx.png', dpi=300)\n",
        "files.download(\"tail_idx.png\");"
      ],
      "execution_count": null,
      "outputs": []
    },
    {
      "cell_type": "code",
      "metadata": {
        "id": "OXOROWNSAUFV"
      },
      "source": [
        "absolute_moments = [2, 3, 4, 5]\n",
        "\n",
        "fig, ax = plt.subplots(figsize=(5*len(absolute_moments), 5), ncols=len(absolute_moments))\n",
        "x_range = range(1, len(log_returns))\n",
        "\n",
        "# shuffle along first index, so tranpose\n",
        "shuffled_array = np.random.permutation(y.T)\n",
        "\n",
        "for j in range(len(absolute_moments)):\n",
        "    paths = np.array([np.mean(np.abs(shuffled_array[:i, :50])**absolute_moments[j], axis=0) for i in x_range])\n",
        "    ax[j].plot(x_range, paths, alpha=0.5)\n",
        "    ax[j].set_ylim(0, np.quantile(paths.max(axis=0), .85))\n",
        "    ax[j].set_xlabel('Sample size')\n",
        "    ax[j].set_ylabel('Absolute moment: {}'.format(absolute_moments[j]))\n",
        "\n",
        "plt.savefig('tail_idx_fake.png', dpi=300)\n",
        "files.download(\"tail_idx_fake.png\");\n",
        "\n",
        "# Note the underflow warning, i.e. some returns when raised to a high power produce\n",
        "# values so small that they fall outside of the range of float32, \n",
        "# this is not a big deal"
      ],
      "execution_count": null,
      "outputs": []
    },
    {
      "cell_type": "markdown",
      "metadata": {
        "id": "Ri0sERSTVKcx"
      },
      "source": [
        "# Autocorrelation effects"
      ]
    },
    {
      "cell_type": "code",
      "metadata": {
        "id": "cQhc7_nrVJdR"
      },
      "source": [
        "fig, axs = plt.subplots(nrows=4, figsize=(10, 20))\n",
        "\n",
        "axs[0].plot(acf(log_returns, 100))\n",
        "axs[0].plot(acf(y.T, 100).mean(axis=1))\n",
        "axs[0].set_ylim(-0.1, 0.1)\n",
        "axs[0].set_ylabel('$corr(r_t, r_{t+\\\\tau})$')\n",
        "\n",
        "axs[1].plot(acf(log_returns**2, 100))\n",
        "axs[1].set_ylim(-0.05, 0.5)\n",
        "axs[1].set_ylabel('$corr(r_t^2, r_{t+\\\\tau}^2)$')\n",
        "axs[1].plot(acf(y.T**2, 100).mean(axis=1))\n",
        "\n",
        "axs[2].plot(acf(abs(log_returns), 100, le=False))\n",
        "axs[2].plot(acf(abs(y.T), 100, le=False).mean(axis=1))\n",
        "axs[1].set_ylim(-0.05, 0.5)\n",
        "axs[2].set_ylabel('$corr(|r_t|, |r_{t+\\\\tau}|)$')\n",
        "\n",
        "axs[3].plot(acf(log_returns, 100, le=True))\n",
        "axs[3].plot(acf(y.T, 100, le=True).mean(axis=1))\n",
        "axs[3].set_ylim(-0.2, 0.1)\n",
        "axs[3].set_ylabel('$corr(r_t, r_{t+\\\\tau}^2)$')\n",
        "\n",
        "for ax in axs: ax.grid(True)\n",
        "plt.setp(axs, xlabel='$\\\\tau$ (days)')\n",
        "plt.tight_layout()\n",
        "\n",
        "plt.savefig('acf_Nikkei225.png', dpi=300)\n",
        "files.download(\"acf_Nikkei225.png\");"
      ],
      "execution_count": null,
      "outputs": []
    },
    {
      "cell_type": "code",
      "metadata": {
        "id": "VAIWg_cFiKMK"
      },
      "source": [
        "fig, ax = plt.subplots(figsize=(16,9))\n",
        "\n",
        "ax.plot(np.exp(y.T[:,:50]).cumprod(axis=0)*100, alpha=0.8)\n",
        "ax.set_xlabel('days', size=14)\n",
        "ax.set_ylabel('cumulative return (%)', size=14)\n",
        "\n",
        "plt.savefig('Nikkei225_paths.png', dpi=300)\n",
        "files.download(\"Nikkei225_paths.png\");"
      ],
      "execution_count": null,
      "outputs": []
    }
  ]
}